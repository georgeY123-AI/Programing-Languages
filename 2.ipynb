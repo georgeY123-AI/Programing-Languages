{
 "cells": [
  {
   "cell_type": "markdown",
   "metadata": {},
   "source": [
    "Practical Examples:"
   ]
  },
  {
   "cell_type": "markdown",
   "metadata": {},
   "source": [
    "Network Scanning:"
   ]
  },
  {
   "cell_type": "code",
   "execution_count": null,
   "metadata": {},
   "outputs": [],
   "source": [
    "import nmap\n",
    "scanner = nmap.PortScanner()\n",
    "scanner.scan('192.168.1.1', '1-1024')\n",
    "print(scanner.all_hosts())\n"
   ]
  },
  {
   "cell_type": "markdown",
   "metadata": {},
   "source": [
    "Web Scraping:"
   ]
  },
  {
   "cell_type": "code",
   "execution_count": null,
   "metadata": {},
   "outputs": [],
   "source": [
    "import requests\n",
    "from bs4 import BeautifulSoup\n",
    "\n",
    "url = 'http://example.com/login'\n",
    "response = requests.get(url)\n",
    "soup = BeautifulSoup(response.text, 'html.parser')\n",
    "forms = soup.find_all('form')\n",
    "for form in forms:\n",
    "    print(form)\n"
   ]
  },
  {
   "cell_type": "markdown",
   "metadata": {},
   "source": [
    "Password Cracking:"
   ]
  },
  {
   "cell_type": "markdown",
   "metadata": {},
   "source": [
    "import hashlib\n",
    "\n",
    "def crack_password(hash_to_crack, dictionary):\n",
    "    with open(dictionary, 'r') as file:\n",
    "        for word in file:\n",
    "            word = strip()\n",
    "            if hashlib.md5(word.encode()).hexdigest() == hash_to_crack:\n",
    "                return word\n",
    "    return None\n",
    "\n",
    "hash_to_crack = '5f4dcc3b5aa765d61d8327deb882cf99'  # example hash for 'password'\n",
    "dictionary = 'common_passwords.txt'\n",
    "print(crack_password(hash_to_crack, dictionary))\n"
   ]
  },
  {
   "cell_type": "markdown",
   "metadata": {},
   "source": [
    "In the ever-evolving field of technology, understanding these distinctions is crucial for choosing the right tool for the job. Whether you’re developing enterprise applications or automating security tasks, knowing the strengths and appropriate uses of each language can significantly enhance your efficiency and effectiveness."
   ]
  }
 ],
 "metadata": {
  "kernelspec": {
   "display_name": "base",
   "language": "python",
   "name": "python3"
  },
  "language_info": {
   "codemirror_mode": {
    "name": "ipython",
    "version": 3
   },
   "file_extension": ".py",
   "mimetype": "text/x-python",
   "name": "python",
   "nbconvert_exporter": "python",
   "pygments_lexer": "ipython3",
   "version": "3.11.5"
  }
 },
 "nbformat": 4,
 "nbformat_minor": 2
}
